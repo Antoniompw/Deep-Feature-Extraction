{
 "cells": [
  {
   "cell_type": "markdown",
   "metadata": {},
   "source": [
    "# Primeiro tu importa o modelo sem o topo. Daí o tensor de saída bate com as deep features.\n",
    "Tu pode escolher outro tensor de outras formas, mas geralmente galera pega o antes da camada de classificação \n"
   ]
  },
  {
   "cell_type": "code",
   "execution_count": 1,
   "metadata": {},
   "outputs": [
    {
     "name": "stdout",
     "output_type": "stream",
     "text": [
      "Model: \"vgg16\"\n",
      "_________________________________________________________________\n",
      "Layer (type)                 Output Shape              Param #   \n",
      "=================================================================\n",
      "input_1 (InputLayer)         [(None, None, None, 3)]   0         \n",
      "_________________________________________________________________\n",
      "block1_conv1 (Conv2D)        (None, None, None, 64)    1792      \n",
      "_________________________________________________________________\n",
      "block1_conv2 (Conv2D)        (None, None, None, 64)    36928     \n",
      "_________________________________________________________________\n",
      "block1_pool (MaxPooling2D)   (None, None, None, 64)    0         \n",
      "_________________________________________________________________\n",
      "block2_conv1 (Conv2D)        (None, None, None, 128)   73856     \n",
      "_________________________________________________________________\n",
      "block2_conv2 (Conv2D)        (None, None, None, 128)   147584    \n",
      "_________________________________________________________________\n",
      "block2_pool (MaxPooling2D)   (None, None, None, 128)   0         \n",
      "_________________________________________________________________\n",
      "block3_conv1 (Conv2D)        (None, None, None, 256)   295168    \n",
      "_________________________________________________________________\n",
      "block3_conv2 (Conv2D)        (None, None, None, 256)   590080    \n",
      "_________________________________________________________________\n",
      "block3_conv3 (Conv2D)        (None, None, None, 256)   590080    \n",
      "_________________________________________________________________\n",
      "block3_pool (MaxPooling2D)   (None, None, None, 256)   0         \n",
      "_________________________________________________________________\n",
      "block4_conv1 (Conv2D)        (None, None, None, 512)   1180160   \n",
      "_________________________________________________________________\n",
      "block4_conv2 (Conv2D)        (None, None, None, 512)   2359808   \n",
      "_________________________________________________________________\n",
      "block4_conv3 (Conv2D)        (None, None, None, 512)   2359808   \n",
      "_________________________________________________________________\n",
      "block4_pool (MaxPooling2D)   (None, None, None, 512)   0         \n",
      "_________________________________________________________________\n",
      "block5_conv1 (Conv2D)        (None, None, None, 512)   2359808   \n",
      "_________________________________________________________________\n",
      "block5_conv2 (Conv2D)        (None, None, None, 512)   2359808   \n",
      "_________________________________________________________________\n",
      "block5_conv3 (Conv2D)        (None, None, None, 512)   2359808   \n",
      "_________________________________________________________________\n",
      "block5_pool (MaxPooling2D)   (None, None, None, 512)   0         \n",
      "=================================================================\n",
      "Total params: 14,714,688\n",
      "Trainable params: 14,714,688\n",
      "Non-trainable params: 0\n",
      "_________________________________________________________________\n"
     ]
    }
   ],
   "source": [
    "from tensorflow.keras.applications import VGG16\n",
    "model = VGG16(\n",
    "    include_top=False,\n",
    "    weights=\"imagenet\"\n",
    ")\n",
    "model.summary()"
   ]
  },
  {
   "cell_type": "markdown",
   "metadata": {},
   "source": [
    "# Executa essa aqui e tu pega da camada que quiser\n",
    "Eu adiciono uma camada flatten pra sair tudo no formato correto logo"
   ]
  },
  {
   "cell_type": "code",
   "execution_count": 2,
   "metadata": {},
   "outputs": [
    {
     "name": "stdout",
     "output_type": "stream",
     "text": [
      "Tensor(\"input_2:0\", shape=(None, 224, 224, 3), dtype=float32) Tensor(\"block5_pool_1/Identity:0\", shape=(None, 7, 7, 512), dtype=float32)\n",
      "Model: \"model\"\n",
      "_________________________________________________________________\n",
      "Layer (type)                 Output Shape              Param #   \n",
      "=================================================================\n",
      "input_2 (InputLayer)         [(None, 224, 224, 3)]     0         \n",
      "_________________________________________________________________\n",
      "block1_conv1 (Conv2D)        (None, 224, 224, 64)      1792      \n",
      "_________________________________________________________________\n",
      "block1_conv2 (Conv2D)        (None, 224, 224, 64)      36928     \n",
      "_________________________________________________________________\n",
      "block1_pool (MaxPooling2D)   (None, 112, 112, 64)      0         \n",
      "_________________________________________________________________\n",
      "block2_conv1 (Conv2D)        (None, 112, 112, 128)     73856     \n",
      "_________________________________________________________________\n",
      "block2_conv2 (Conv2D)        (None, 112, 112, 128)     147584    \n",
      "_________________________________________________________________\n",
      "block2_pool (MaxPooling2D)   (None, 56, 56, 128)       0         \n",
      "_________________________________________________________________\n",
      "block3_conv1 (Conv2D)        (None, 56, 56, 256)       295168    \n",
      "_________________________________________________________________\n",
      "block3_conv2 (Conv2D)        (None, 56, 56, 256)       590080    \n",
      "_________________________________________________________________\n",
      "block3_conv3 (Conv2D)        (None, 56, 56, 256)       590080    \n",
      "_________________________________________________________________\n",
      "block3_pool (MaxPooling2D)   (None, 28, 28, 256)       0         \n",
      "_________________________________________________________________\n",
      "block4_conv1 (Conv2D)        (None, 28, 28, 512)       1180160   \n",
      "_________________________________________________________________\n",
      "block4_conv2 (Conv2D)        (None, 28, 28, 512)       2359808   \n",
      "_________________________________________________________________\n",
      "block4_conv3 (Conv2D)        (None, 28, 28, 512)       2359808   \n",
      "_________________________________________________________________\n",
      "block4_pool (MaxPooling2D)   (None, 14, 14, 512)       0         \n",
      "_________________________________________________________________\n",
      "block5_conv1 (Conv2D)        (None, 14, 14, 512)       2359808   \n",
      "_________________________________________________________________\n",
      "block5_conv2 (Conv2D)        (None, 14, 14, 512)       2359808   \n",
      "_________________________________________________________________\n",
      "block5_conv3 (Conv2D)        (None, 14, 14, 512)       2359808   \n",
      "_________________________________________________________________\n",
      "block5_pool (MaxPooling2D)   (None, 7, 7, 512)         0         \n",
      "_________________________________________________________________\n",
      "flatten (Flatten)            (None, 25088)             0         \n",
      "=================================================================\n",
      "Total params: 14,714,688\n",
      "Trainable params: 14,714,688\n",
      "Non-trainable params: 0\n",
      "_________________________________________________________________\n"
     ]
    }
   ],
   "source": [
    "from tensorflow.keras.applications import VGG16\n",
    "from tensorflow.keras import layers\n",
    "from tensorflow.keras import Model\n",
    "\n",
    "model = VGG16(weights=\"imagenet\")\n",
    "input_layer = model.input\n",
    "selected_layer = model.get_layer(index = -5).output\n",
    "flat_out = layers.Flatten()(selected_layer)\n",
    "\n",
    "print(input_layer, selected_layer)\n",
    "model = Model(inputs = input_layer, outputs = flat_out)\n",
    "model.summary()"
   ]
  },
  {
   "cell_type": "code",
   "execution_count": 3,
   "metadata": {},
   "outputs": [],
   "source": [
    "import tensorflow as tf\n",
    "CHANNELS = 3\n",
    "IMG_HEIGHT = 224\n",
    "IMG_WIDTH = 224\n",
    "\n",
    "def get_img(file_path):\n",
    "\timg = tf.io.read_file(file_path)\n",
    "\timg = tf.image.decode_png(img, channels=CHANNELS)\n",
    "\timg = tf.image.convert_image_dtype(img, tf.float32)\n",
    "\treturn tf.image.resize(img, [IMG_HEIGHT, IMG_WIDTH])\n",
    "\n",
    "file_pattern = \"base/*.jpg\"\n",
    "data = tf.data.Dataset.list_files(file_pattern)\n",
    "data = data.map(get_img)\n",
    "data = data.batch(1)\n",
    "\n",
    "from glob import glob\n",
    "size = len(glob(file_pattern))\n",
    "predictions = model.predict(x = data, steps = size, batch_size = 1)"
   ]
  },
  {
   "cell_type": "markdown",
   "metadata": {},
   "source": [
    "# Um pouco de código que tu pode usar, mas lembrando que tu precisa concatenar a label se tu quiser lembar o que é o que"
   ]
  },
  {
   "cell_type": "code",
   "execution_count": 4,
   "metadata": {},
   "outputs": [
    {
     "name": "stdout",
     "output_type": "stream",
     "text": [
      "[    0     1     2 ... 25085 25086 25087] [[8.8863827e-02 0.0000000e+00 0.0000000e+00 ... 2.7505308e-04\n",
      "  7.2772437e-01 0.0000000e+00]\n",
      " [9.3631789e-02 0.0000000e+00 0.0000000e+00 ... 0.0000000e+00\n",
      "  7.1173793e-01 0.0000000e+00]\n",
      " [5.4592624e-02 0.0000000e+00 0.0000000e+00 ... 1.1400825e-01\n",
      "  7.8305143e-01 0.0000000e+00]\n",
      " ...\n",
      " [7.5190246e-02 0.0000000e+00 0.0000000e+00 ... 0.0000000e+00\n",
      "  6.7108810e-01 0.0000000e+00]\n",
      " [8.3116561e-02 0.0000000e+00 0.0000000e+00 ... 0.0000000e+00\n",
      "  6.7087364e-01 0.0000000e+00]\n",
      " [1.1628393e-01 0.0000000e+00 0.0000000e+00 ... 0.0000000e+00\n",
      "  6.9747835e-01 0.0000000e+00]]\n"
     ]
    }
   ],
   "source": [
    "from numpy import asarray\n",
    "from numpy import savetxt\n",
    "import numpy as np\n",
    "data = asarray(predictions)\n",
    "header = asarray(range(data.shape[1]))\n",
    "print(header, data)"
   ]
  },
  {
   "cell_type": "code",
   "execution_count": 5,
   "metadata": {},
   "outputs": [
    {
     "name": "stdout",
     "output_type": "stream",
     "text": [
      "[[0.00000000e+00 1.00000000e+00 2.00000000e+00 ... 2.50850000e+04\n",
      "  2.50860000e+04 2.50870000e+04]\n",
      " [8.88638273e-02 0.00000000e+00 0.00000000e+00 ... 2.75053084e-04\n",
      "  7.27724373e-01 0.00000000e+00]\n",
      " [9.36317891e-02 0.00000000e+00 0.00000000e+00 ... 0.00000000e+00\n",
      "  7.11737931e-01 0.00000000e+00]\n",
      " ...\n",
      " [7.51902461e-02 0.00000000e+00 0.00000000e+00 ... 0.00000000e+00\n",
      "  6.71088099e-01 0.00000000e+00]\n",
      " [8.31165612e-02 0.00000000e+00 0.00000000e+00 ... 0.00000000e+00\n",
      "  6.70873642e-01 0.00000000e+00]\n",
      " [1.16283931e-01 0.00000000e+00 0.00000000e+00 ... 0.00000000e+00\n",
      "  6.97478354e-01 0.00000000e+00]]\n"
     ]
    }
   ],
   "source": [
    "csv = np.concatenate(([header], data))\n",
    "print(csv)\n",
    "savetxt('data.csv', csv, delimiter=',')"
   ]
  }
 ],
 "metadata": {
  "kernelspec": {
   "display_name": "Python 3",
   "language": "python",
   "name": "python3"
  },
  "language_info": {
   "codemirror_mode": {
    "name": "ipython",
    "version": 3
   },
   "file_extension": ".py",
   "mimetype": "text/x-python",
   "name": "python",
   "nbconvert_exporter": "python",
   "pygments_lexer": "ipython3",
   "version": "3.7.6"
  }
 },
 "nbformat": 4,
 "nbformat_minor": 4
}
