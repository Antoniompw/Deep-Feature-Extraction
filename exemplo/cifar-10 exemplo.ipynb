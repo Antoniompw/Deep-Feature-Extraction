{
 "cells": [
  {
   "cell_type": "markdown",
   "metadata": {},
   "source": [
    "Aqui eu pego a VGG pré-treinada"
   ]
  },
  {
   "cell_type": "code",
   "execution_count": 1,
   "metadata": {},
   "outputs": [
    {
     "name": "stdout",
     "output_type": "stream",
     "text": [
      "Tensor(\"input_1:0\", shape=(None, 224, 224, 3), dtype=float32) Tensor(\"block5_pool/Identity:0\", shape=(None, 7, 7, 512), dtype=float32)\n",
      "Model: \"model\"\n",
      "_________________________________________________________________\n",
      "Layer (type)                 Output Shape              Param #   \n",
      "=================================================================\n",
      "input_1 (InputLayer)         [(None, 224, 224, 3)]     0         \n",
      "_________________________________________________________________\n",
      "block1_conv1 (Conv2D)        (None, 224, 224, 64)      1792      \n",
      "_________________________________________________________________\n",
      "block1_conv2 (Conv2D)        (None, 224, 224, 64)      36928     \n",
      "_________________________________________________________________\n",
      "block1_pool (MaxPooling2D)   (None, 112, 112, 64)      0         \n",
      "_________________________________________________________________\n",
      "block2_conv1 (Conv2D)        (None, 112, 112, 128)     73856     \n",
      "_________________________________________________________________\n",
      "block2_conv2 (Conv2D)        (None, 112, 112, 128)     147584    \n",
      "_________________________________________________________________\n",
      "block2_pool (MaxPooling2D)   (None, 56, 56, 128)       0         \n",
      "_________________________________________________________________\n",
      "block3_conv1 (Conv2D)        (None, 56, 56, 256)       295168    \n",
      "_________________________________________________________________\n",
      "block3_conv2 (Conv2D)        (None, 56, 56, 256)       590080    \n",
      "_________________________________________________________________\n",
      "block3_conv3 (Conv2D)        (None, 56, 56, 256)       590080    \n",
      "_________________________________________________________________\n",
      "block3_pool (MaxPooling2D)   (None, 28, 28, 256)       0         \n",
      "_________________________________________________________________\n",
      "block4_conv1 (Conv2D)        (None, 28, 28, 512)       1180160   \n",
      "_________________________________________________________________\n",
      "block4_conv2 (Conv2D)        (None, 28, 28, 512)       2359808   \n",
      "_________________________________________________________________\n",
      "block4_conv3 (Conv2D)        (None, 28, 28, 512)       2359808   \n",
      "_________________________________________________________________\n",
      "block4_pool (MaxPooling2D)   (None, 14, 14, 512)       0         \n",
      "_________________________________________________________________\n",
      "block5_conv1 (Conv2D)        (None, 14, 14, 512)       2359808   \n",
      "_________________________________________________________________\n",
      "block5_conv2 (Conv2D)        (None, 14, 14, 512)       2359808   \n",
      "_________________________________________________________________\n",
      "block5_conv3 (Conv2D)        (None, 14, 14, 512)       2359808   \n",
      "_________________________________________________________________\n",
      "block5_pool (MaxPooling2D)   (None, 7, 7, 512)         0         \n",
      "_________________________________________________________________\n",
      "flatten (Flatten)            (None, 25088)             0         \n",
      "=================================================================\n",
      "Total params: 14,714,688\n",
      "Trainable params: 14,714,688\n",
      "Non-trainable params: 0\n",
      "_________________________________________________________________\n"
     ]
    }
   ],
   "source": [
    "from tensorflow.keras.applications import VGG16\n",
    "from tensorflow.keras import layers\n",
    "from tensorflow.keras import Model\n",
    "\n",
    "model = VGG16(weights=\"imagenet\")\n",
    "input_layer = model.input\n",
    "selected_layer = model.get_layer(index = -5).output\n",
    "flat_out = layers.Flatten()(selected_layer)\n",
    "\n",
    "print(input_layer, selected_layer)\n",
    "model = Model(inputs = input_layer, outputs = flat_out)\n",
    "model.summary()"
   ]
  },
  {
   "cell_type": "markdown",
   "metadata": {},
   "source": [
    "Configuro o tf pra não ter nenhum estouro de memória"
   ]
  },
  {
   "cell_type": "code",
   "execution_count": 2,
   "metadata": {},
   "outputs": [],
   "source": [
    "\n",
    "import os\n",
    "os.environ['TF_CPP_MIN_LOG_LEVEL'] = '3'\n",
    "\n",
    "import tensorflow as tf\n",
    "physical_devices = tf.config.list_physical_devices('GPU')\n",
    "try:\n",
    "\ttf.config.experimental.set_memory_growth(physical_devices[0], True)\n",
    "except:\n",
    "\tpass"
   ]
  },
  {
   "cell_type": "code",
   "execution_count": null,
   "metadata": {},
   "outputs": [],
   "source": [
    "Tiro 100 da classe 0 e 100 da classe 1, tanto no treino quanto no teste"
   ]
  },
  {
   "cell_type": "code",
   "execution_count": 3,
   "metadata": {},
   "outputs": [
    {
     "name": "stdout",
     "output_type": "stream",
     "text": [
      "100 100\n",
      "100 100\n"
     ]
    }
   ],
   "source": [
    "from tensorflow.keras import datasets\n",
    "import numpy as np\n",
    "\n",
    "(train_images, train_labels), (test_images, test_labels) = datasets.cifar10.load_data()\n",
    "train_images, test_images = train_images / 255.0, test_images / 255.0\n",
    "\n",
    "def make_binary(x, y):\n",
    "    neg = np.where(y == 0)\n",
    "    pos = np.where(y == 1)\n",
    "    neg = neg[0][:100]\n",
    "    pos = pos[0][:100]\n",
    "    print(len(pos), len(neg))\n",
    "    index = np.concatenate((pos, neg), axis = -1)\n",
    "    x = x[index]\n",
    "    y = y[index]\n",
    "    return x, y\n",
    "\n",
    "train_images, train_labels = make_binary(train_images, train_labels)\n",
    "test_images, test_labels = make_binary(test_images, test_labels)\n",
    "# print(train_labels, len(train_labels))\n",
    "# print(test_labels, len(test_labels))\n",
    "# print(train_images.shape, test_images.shape)"
   ]
  },
  {
   "cell_type": "code",
   "execution_count": 4,
   "metadata": {},
   "outputs": [
    {
     "name": "stdout",
     "output_type": "stream",
     "text": [
      "(200, 224, 224, 3) (200, 224, 224, 3)\n"
     ]
    }
   ],
   "source": [
    "\n",
    "train_images = tf.image.resize(train_images, [224,224])\n",
    "test_images = tf.image.resize(test_images, [224,224])\n",
    "\n",
    "print(train_images.shape, test_images.shape)\n",
    "train_features = model.predict(x = train_images)\n",
    "test_features = model.predict(x = test_images)"
   ]
  },
  {
   "cell_type": "code",
   "execution_count": 5,
   "metadata": {},
   "outputs": [
    {
     "name": "stderr",
     "output_type": "stream",
     "text": [
      "<ipython-input-5-6d270b5d2e66>:3: DataConversionWarning: A column-vector y was passed when a 1d array was expected. Please change the shape of y to (n_samples,), for example using ravel().\n",
      "  clf.fit(X = train_features, y = train_labels)\n"
     ]
    },
    {
     "data": {
      "text/plain": [
       "RandomForestClassifier()"
      ]
     },
     "execution_count": 5,
     "metadata": {},
     "output_type": "execute_result"
    }
   ],
   "source": [
    "from sklearn.ensemble import RandomForestClassifier\n",
    "clf = RandomForestClassifier()\n",
    "clf.fit(X = train_features, y = train_labels)"
   ]
  },
  {
   "cell_type": "code",
   "execution_count": 6,
   "metadata": {},
   "outputs": [
    {
     "name": "stdout",
     "output_type": "stream",
     "text": [
      "Accuracy: 0.885000\n",
      "Precision: 0.859813\n",
      "Recall: 0.920000\n",
      "F1 score: 0.888889\n",
      "Specificity = 0.850000\n"
     ]
    }
   ],
   "source": [
    "def metrics(prediction, true_pred, nb_samples):\n",
    "\tfrom sklearn.metrics import accuracy_score\n",
    "\tfrom sklearn.metrics import precision_score\n",
    "\tfrom sklearn.metrics import recall_score\n",
    "\tfrom sklearn.metrics import f1_score\n",
    "\tfrom sklearn.metrics import confusion_matrix\n",
    "\n",
    "\taccuracy = accuracy_score(true_pred, prediction)\n",
    "\tprecision = precision_score(true_pred, prediction)\n",
    "\trecall = recall_score(true_pred, prediction)\n",
    "\tf1 = f1_score(true_pred, prediction)\n",
    "\ttn, fp, fn, tp = confusion_matrix(true_pred, prediction).ravel()\n",
    "\tspecificity = tn / (tn+fp)\n",
    "\n",
    "\tprint('Accuracy: %f' % accuracy)\n",
    "\tprint('Precision: %f' % precision)\n",
    "\tprint('Recall: %f' % recall)\n",
    "\tprint('F1 score: %f' % f1)\n",
    "\tprint(\"Specificity = %f\" % specificity)\n",
    "    \n",
    "predictions = clf.predict(test_features)\n",
    "metrics(predictions, test_labels, len(predictions))"
   ]
  }
 ],
 "metadata": {
  "kernelspec": {
   "display_name": "Python 3",
   "language": "python",
   "name": "python3"
  },
  "language_info": {
   "codemirror_mode": {
    "name": "ipython",
    "version": 3
   },
   "file_extension": ".py",
   "mimetype": "text/x-python",
   "name": "python",
   "nbconvert_exporter": "python",
   "pygments_lexer": "ipython3",
   "version": "3.8.3"
  }
 },
 "nbformat": 4,
 "nbformat_minor": 4
}
